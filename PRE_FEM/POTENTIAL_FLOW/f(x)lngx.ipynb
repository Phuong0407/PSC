{
 "cells": [
  {
   "cell_type": "code",
   "execution_count": 8,
   "id": "77a078c6-0c18-4875-a52a-9cbde2c44de0",
   "metadata": {},
   "outputs": [
    {
     "name": "stdout",
     "output_type": "stream",
     "text": [
      "Approximate value of the integral: 0.02102854789385787\n"
     ]
    }
   ],
   "source": [
    "import numpy as np\n",
    "\n",
    "# Define the functions f(x) and g(x)\n",
    "def f(x):\n",
    "    # Example function, replace with your actual f(x)\n",
    "    return x**2\n",
    "\n",
    "def g(x):\n",
    "    # Example function, replace with your actual g(x)\n",
    "    # return x\n",
    "    return np.sin(x) + x**3\n",
    "\n",
    "# Gauss-Legendre 8-point nodes and weights for the interval [0, 1]\n",
    "nodes = np.array([\n",
    "    0.019855071751231884,\n",
    "    0.10166676129318664,\n",
    "    0.2372337950418355,\n",
    "    0.4082826787521751,\n",
    "    0.5917173212478249,\n",
    "    0.7627662049581645,\n",
    "    0.8983332387068134,\n",
    "    0.9801449282487682\n",
    "])\n",
    "\n",
    "weights = np.array([\n",
    "    0.10122853629037626,\n",
    "    0.22238103445337447,\n",
    "    0.31370664587788727,\n",
    "    0.36268378337836203,\n",
    "    0.36268378337836203,\n",
    "    0.31370664587788727,\n",
    "    0.22238103445337447,\n",
    "    0.10122853629037626\n",
    "])\n",
    "\n",
    "# Compute the integral\n",
    "integral = 0\n",
    "for i in range(len(nodes)):\n",
    "    xi = nodes[i]\n",
    "    wi = weights[i]\n",
    "    integral += wi * f(xi) * np.log(1/g(xi)) / 2\n",
    "\n",
    "# Add the negative sign as per the formula\n",
    "integral = -integral\n",
    "\n",
    "# Print the result\n",
    "print(\"Approximate value of the integral:\", integral)\n"
   ]
  }
 ],
 "metadata": {
  "kernelspec": {
   "display_name": "Python 3 (ipykernel)",
   "language": "python",
   "name": "python3"
  },
  "language_info": {
   "codemirror_mode": {
    "name": "ipython",
    "version": 3
   },
   "file_extension": ".py",
   "mimetype": "text/x-python",
   "name": "python",
   "nbconvert_exporter": "python",
   "pygments_lexer": "ipython3",
   "version": "3.13.1"
  }
 },
 "nbformat": 4,
 "nbformat_minor": 5
}
