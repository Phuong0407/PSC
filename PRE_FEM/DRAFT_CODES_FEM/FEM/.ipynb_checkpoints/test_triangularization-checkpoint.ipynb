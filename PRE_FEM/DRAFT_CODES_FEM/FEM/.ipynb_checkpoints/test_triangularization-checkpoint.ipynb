{
 "cells": [
  {
   "cell_type": "code",
   "execution_count": 1,
   "id": "19e7b069-39ef-4072-8bd0-ac14a3c817b6",
   "metadata": {},
   "outputs": [
    {
     "ename": "SyntaxError",
     "evalue": "invalid syntax (2186484539.py, line 1)",
     "output_type": "error",
     "traceback": [
      "\u001b[0;36m  Cell \u001b[0;32mIn[1], line 1\u001b[0;36m\u001b[0m\n\u001b[0;31m    var uniqueEdges = function(edges) {\u001b[0m\n\u001b[0m        ^\u001b[0m\n\u001b[0;31mSyntaxError\u001b[0m\u001b[0;31m:\u001b[0m invalid syntax\n"
     ]
    }
   ],
   "source": [
    "import matplotlib.pyplot as plt\n",
    "import matplotlib.patches as patches\n",
    "\n",
    "# Define a function to draw triangles\n",
    "def draw_triangles(triangles):\n",
    "    fig, ax = plt.subplots(figsize=(10, 8))\n",
    "\n",
    "    # Draw each triangle\n",
    "    for t in triangles:\n",
    "        triangle = patches.Polygon(\n",
    "            [[t[0][0], t[0][1]], [t[1][0], t[1][1]], [t[2][0], t[2][1]]],\n",
    "            closed=True,\n",
    "            edgecolor=\"black\",\n",
    "            facecolor=\"lightblue\",\n",
    "            linewidth=1,\n",
    "        )\n",
    "        ax.add_patch(triangle)\n",
    "\n",
    "    # Plot settings\n",
    "    ax.set_aspect('equal', adjustable='datalim')\n",
    "    plt.xlim(-1, 10)  # Adjust the limits as per the data range\n",
    "    plt.ylim(-1, 5)\n",
    "    plt.grid(True)\n",
    "    plt.xlabel(\"X-axis\")\n",
    "    plt.ylabel(\"Y-axis\")\n",
    "    plt.title(\"Delaunay Triangulation\")\n",
    "    plt.show()\n",
    "\n",
    "# List of triangles (as tuples of points)\n",
    "triangles = [\n",
    "    [(6, 2), (3, 0), (9, 2)],\n",
    "    [(6, 2), (3, 0), (9, 2)],\n",
    "    [(6, 2), (3, 0), (9, 2)],\n",
    "    [(6, 2), (9, 2), (9, 4)],\n",
    "    [(6, 2), (9, 2), (9, 4)],\n",
    "    [(6, 2), (9, 2), (9, 4)],\n",
    "    [(6, 2), (9, 2), (9, 4)],\n",
    "    [(0, 0), (3, 0), (0, 4)],\n",
    "    [(3, 0), (6, 2), (0, 4)],\n",
    "    [(6, 2), (0, 0), (0, 4)],\n",
    "    [(3, 0), (6, 2), (0, 4)],\n",
    "    [(0, 0), (6, 2), (0, 4)],\n",
    "    [(0, 0), (3, 0), (0, 4)],\n",
    "    [(3, 0), (6, 2), (0, 4)],\n",
    "    [(6, 2), (0, 0), (0, 4)],\n",
    "    [(0, 0), (9, 4), (0, 4)],\n",
    "    [(0, 0), (6, 2), (0, 4)],\n",
    "    [(6, 2), (9, 4), (0, 4)],\n",
    "    [(9, 4), (0, 0), (0, 4)],\n",
    "    [(9, 2), (9, 4), (0, 4)],\n",
    "    [(6, 2), (9, 4), (0, 4)],\n",
    "    [(6, 2), (9, 4), (0, 4)],\n",
    "    [(6, 2), (9, 4), (0, 4)],\n",
    "]\n",
    "\n",
    "# Call the function to draw\n",
    "draw_triangles(triangles)\n"
   ]
  }
 ],
 "metadata": {
  "kernelspec": {
   "display_name": "Python 3 (ipykernel)",
   "language": "python",
   "name": "python3"
  },
  "language_info": {
   "codemirror_mode": {
    "name": "ipython",
    "version": 3
   },
   "file_extension": ".py",
   "mimetype": "text/x-python",
   "name": "python",
   "nbconvert_exporter": "python",
   "pygments_lexer": "ipython3",
   "version": "3.13.1"
  }
 },
 "nbformat": 4,
 "nbformat_minor": 5
}
